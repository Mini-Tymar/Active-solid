{
 "cells": [
  {
   "cell_type": "code",
   "execution_count": 1,
   "metadata": {},
   "outputs": [
    {
     "name": "stdout",
     "output_type": "stream",
     "text": [
      "cell: n(1), vertices([vertice : n(1), coords([2.0, 3.0]), boundary(True), vertice : n(2), coords([6.0, 5.0]), boundary(True), vertice : n(4), coords([1.0, 1.0]), boundary(False), vertice : n(3), coords([4.0, 1.0]), boundary(False)]), links([])\n",
      "cell: n(1), vertices([vertice : n(2), coords([6.0, 5.0]), boundary(True), vertice : n(1), coords([2.0, 3.0]), boundary(True), vertice : n(4), coords([1.0, 1.0]), boundary(False), vertice : n(3), coords([4.0, 1.0]), boundary(False)]), links([])\n",
      "9.0\n",
      "[3.25, 2.5]\n",
      "cell: n(1), vertices([vertice : n(2), coords([6.0, 5.0]), boundary(True), vertice : n(1), coords([2.0, 3.0]), boundary(True), vertice : n(4), coords([1.0, 1.0]), boundary(False), vertice : n(3), coords([4.0, 1.0]), boundary(False)]), links([])\n"
     ]
    }
   ],
   "source": [
    "from link import link\n",
    "from vertice import vertice\n",
    "from cell import cell\n",
    "from newcoords import newcoords\n",
    "\n",
    "A = vertice(1, [2.,3.],1)\n",
    "B = vertice(2, [6.,5.],1)\n",
    "C = vertice(3, [4.,1.],0)\n",
    "D = vertice(4, [1.,1.],0)\n",
    "\n",
    "cell = cell(1)\n",
    "\n",
    "cell.add_vertice(A)\n",
    "cell.add_vertice(B)\n",
    "cell.add_vertice(D)\n",
    "cell.add_vertice(C)\n",
    "\n",
    "print(cell)\n",
    "\n",
    "cell.orderingvertices()\n",
    "cell.A0 = cell.area()\n",
    "cell.K = 500\n",
    "\n",
    "print(cell)\n",
    "\n",
    "print(cell.area())\n",
    "print(cell.bary())\n",
    "\n",
    "print(cell)"
   ]
  },
  {
   "cell_type": "code",
   "execution_count": 2,
   "metadata": {},
   "outputs": [
    {
     "name": "stdout",
     "output_type": "stream",
     "text": [
      "9.0\n",
      "4.5\n",
      "[2089.072554491833, 2089.072554491833]\n",
      "[-1664.8651651408732, -1664.8651651408732]\n",
      "[-1006.2305898749054, -1006.2305898749054]\n",
      "[1872.1131622601483, 1872.1131622601483]\n"
     ]
    }
   ],
   "source": [
    "print(cell.A0)\n",
    "cell.A0 = 0.5*cell.A0\n",
    "print(cell.A0)\n",
    "\n",
    "print(cell.get_force(A))\n",
    "print(cell.get_force(B))\n",
    "print(cell.get_force(C))\n",
    "print(cell.get_force(D))"
   ]
  }
 ],
 "metadata": {
  "kernelspec": {
   "display_name": "Python 3",
   "language": "python",
   "name": "python3"
  },
  "language_info": {
   "codemirror_mode": {
    "name": "ipython",
    "version": 3
   },
   "file_extension": ".py",
   "mimetype": "text/x-python",
   "name": "python",
   "nbconvert_exporter": "python",
   "pygments_lexer": "ipython3",
   "version": "3.5.2"
  }
 },
 "nbformat": 4,
 "nbformat_minor": 2
}
