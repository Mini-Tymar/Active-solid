{
 "cells": [
  {
   "cell_type": "code",
   "execution_count": 1,
   "metadata": {},
   "outputs": [
    {
     "name": "stdout",
     "output_type": "stream",
     "text": [
      "cell: n(1), vertices([vertice : n(2), coords([6.0, 5.0]), boundary(True), vertice : n(4), coords([1.0, 1.0]), boundary(False), vertice : n(1), coords([0.0, 0.0]), boundary(True), vertice : n(5), coords([3.0, 0.0]), boundary(False), vertice : n(3), coords([4.0, 1.0]), boundary(False)]), links([])\n",
      "cell: n(1), vertices([vertice : n(2), coords([6.0, 5.0]), boundary(True), vertice : n(4), coords([1.0, 1.0]), boundary(False), vertice : n(1), coords([2.0, 3.0]), boundary(True), vertice : n(5), coords([3.0, 0.0]), boundary(False), vertice : n(3), coords([4.0, 1.0]), boundary(False)]), links([])\n",
      "cell: n(1), vertices([vertice : n(2), coords([4.614000000000001, 3.5149999999999997]), boundary(True), vertice : n(4), coords([1.9517860000000002, 1.347985]), boundary(False), vertice : n(1), coords([2.551012814, 2.3924355150000003]), boundary(True), vertice : n(5), coords([3.1105630825860002, 0.8172866309850001]), boundary(False), vertice : n(3), coords([3.626508827762014, 1.4031980074525152]), boundary(False)]), links([])\n",
      "cell: n(1), vertices([vertice : n(2), coords([5.306839665493053, 4.2393193525184385]), boundary(True), vertice : n(4), coords([1.5657888091022123, 1.2548110007918418]), boundary(False), vertice : n(1), coords([2.3018749467482205, 2.760245474830642]), boundary(True), vertice : n(5), coords([3.0446671912528833, 0.5132681628623434]), boundary(False), vertice : n(3), coords([3.7964382925775606, 1.2533712579243332]), boundary(False)]), links([])\n"
     ]
    }
   ],
   "source": [
    "from cell import cell\n",
    "from vertice import vertice\n",
    "from newcoords import newcoords\n",
    "from contraction import contraction\n",
    "\n",
    "A = vertice(1, [2.,3.],1)\n",
    "B = vertice(2, [6.,5.],1)\n",
    "C = vertice(3, [4.,1.],0)\n",
    "D = vertice(4, [1.,1.],0)\n",
    "E = vertice(5, [3.,0.],0)\n",
    "\n",
    "cell = cell(1)\n",
    "\n",
    "cell.add_vertice(A)\n",
    "cell.add_vertice(B)\n",
    "cell.add_vertice(D)\n",
    "cell.add_vertice(C)\n",
    "cell.add_vertice(E)\n",
    "\n",
    "newcoords(A, [0.,0.])\n",
    "\n",
    "cell.orderingvertices()\n",
    "print(cell)\n",
    "t=0.\n",
    "contraction(cell,t)\n",
    "print(cell)\n",
    "t=0.99\n",
    "contraction(cell,t)\n",
    "print(cell)\n",
    "contraction(cell,t, t_start = 0.5)\n",
    "print(cell)\n",
    "contraction(cell,t, rate = 0.8)"
   ]
  },
  {
   "cell_type": "code",
   "execution_count": null,
   "metadata": {
    "collapsed": true
   },
   "outputs": [],
   "source": []
  }
 ],
 "metadata": {
  "kernelspec": {
   "display_name": "Python 3",
   "language": "python",
   "name": "python3"
  },
  "language_info": {
   "codemirror_mode": {
    "name": "ipython",
    "version": 3
   },
   "file_extension": ".py",
   "mimetype": "text/x-python",
   "name": "python",
   "nbconvert_exporter": "python",
   "pygments_lexer": "ipython3",
   "version": "3.5.2"
  }
 },
 "nbformat": 4,
 "nbformat_minor": 2
}
