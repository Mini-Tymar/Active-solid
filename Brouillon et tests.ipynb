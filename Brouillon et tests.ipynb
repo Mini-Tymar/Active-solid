{
 "cells": [
  {
   "cell_type": "raw",
   "metadata": {},
   "source": [
    ">>> class Nombre:\n",
    "...     def __init__(self,nom):\n",
    "...             self.nom = nom\n",
    "...             if a ==0:\n",
    "...                     self.nom = a\n",
    "... \n",
    ">>> B = Nombre(\"Maurice\")\n",
    "Traceback (most recent call last):\n",
    "  File \"<stdin>\", line 1, in <module>\n",
    "  File \"<stdin>\", line 4, in __init__\n",
    "NameError: name 'a' is not defined\n",
    ">>> a = 1\n",
    ">>> B = Nombre(\"Maurice\")\n",
    ">>> B.nom\n",
    "'Maurice'\n",
    ">>> a = 0\n",
    ">>> C = Nombre(\"Ryzmo\")\n",
    ">>> C.nom\n",
    "0\n"
   ]
  },
  {
   "cell_type": "markdown",
   "metadata": {},
   "source": [
    "Au dessus on a vu que l'on pouvait utiliser les variables globales à l'intérieur des classes"
   ]
  },
  {
   "cell_type": "code",
   "execution_count": 1,
   "metadata": {},
   "outputs": [
    {
     "name": "stdout",
     "output_type": "stream",
     "text": [
      "10.0 4.47213595499958 4.47213595499958 [0.0, 0.0]\n",
      "10.0 4.47213595499958 4.47213595499958 [51.2881998823358, 42.74016656861317]\n",
      "10.0 4.47213595499958 2.23606797749979 [68.46614991175184, 57.05512492645987]\n"
     ]
    }
   ],
   "source": [
    "from link import link\n",
    "from vertice import vertice\n",
    "from cell import cell\n",
    "from newcoords import newcoords\n",
    "\n",
    "A = vertice(1, [2.,3.],1)\n",
    "B = vertice(2, [6.,5.],1)\n",
    "C = vertice(3, [4.,1.],0)\n",
    "D = vertice(4, [1.,1.],0)\n",
    "\n",
    "cell = cell(1)\n",
    "\n",
    "cell.add_vertice(A)\n",
    "cell.add_vertice(B)\n",
    "cell.add_vertice(D)\n",
    "cell.add_vertice(C)\n",
    "\n",
    "AB = link([A, B], \"inside\")\n",
    "\n",
    "print(AB.k, AB.l_0, AB.l_ac, AB.get_force(A))\n",
    "\n",
    "newcoords(A, [0., 0.])\n",
    "\n",
    "print(AB.k, AB.l_0, AB.l_ac, AB.get_force(A))\n",
    "\n",
    "AB.activity = 1\n",
    "\n",
    "print(AB.k, AB.l_0, AB.l_ac, AB.get_force(A))"
   ]
  },
  {
   "cell_type": "markdown",
   "metadata": {},
   "source": [
    "Au dessus on voit que k est bien une variable de classe\n",
    "que l-0 prend bien la valeur initiale et ne change pas de valeurs quand on change les coordonnées de A\n",
    "La force est nulle en position initiale, elle augmente si A s'éloigne et si on active le \"link\""
   ]
  },
  {
   "cell_type": "code",
   "execution_count": 2,
   "metadata": {},
   "outputs": [
    {
     "name": "stdout",
     "output_type": "stream",
     "text": [
      "Coordinates not changed ! The coordinates of the vertice 1 are fixed and are: [2.0, 3.0]\n"
     ]
    }
   ],
   "source": [
    "newcoords(A, [2., 3.])\n",
    "\n",
    "A.state = \"fixed\"\n",
    "\n",
    "newcoords(A, [0., 0.])"
   ]
  },
  {
   "cell_type": "markdown",
   "metadata": {},
   "source": [
    "En passant par la fonction \"newcoords\" on peut choisir de fixer ou non le point A"
   ]
  },
  {
   "cell_type": "code",
   "execution_count": 3,
   "metadata": {},
   "outputs": [
    {
     "name": "stdout",
     "output_type": "stream",
     "text": [
      "cell: n(1), vertices([vertices : n(1), coords([2.0, 3.0]), boundary(True), vertices : n(2), coords([6.0, 5.0]), boundary(True), vertices : n(4), coords([1.0, 1.0]), boundary(False), vertices : n(3), coords([4.0, 1.0]), boundary(False)]), links([])\n",
      "cell: n(1), vertices([vertices : n(2), coords([6.0, 5.0]), boundary(True), vertices : n(1), coords([2.0, 3.0]), boundary(True), vertices : n(4), coords([1.0, 1.0]), boundary(False), vertices : n(3), coords([4.0, 1.0]), boundary(False)]), links([])\n"
     ]
    }
   ],
   "source": [
    "print(cell)\n",
    "\n",
    "cell.orderingvertices()\n",
    "\n",
    "print(cell)"
   ]
  },
  {
   "cell_type": "markdown",
   "metadata": {},
   "source": [
    "Les \"vertices\" sont classés par ordre trigonométrique afin de pouvoir calculer l'aire"
   ]
  },
  {
   "cell_type": "code",
   "execution_count": 4,
   "metadata": {},
   "outputs": [
    {
     "name": "stdout",
     "output_type": "stream",
     "text": [
      "9.0\n"
     ]
    }
   ],
   "source": [
    "print(cell.area())"
   ]
  },
  {
   "cell_type": "markdown",
   "metadata": {},
   "source": [
    "Dans la fonction cell on appelle \"orderingvertices\" pour que même si les vertices ne sont pas rangés, le code les range avant de calculer l'aire"
   ]
  },
  {
   "cell_type": "markdown",
   "metadata": {
    "collapsed": true
   },
   "source": [
    "==> Focus sur la simulation : faire quelque chose de vraiment simple  \n",
    "On part d'un équilibre,  \n",
    "On applique des conditions initiales,  \n",
    "On regarde le systême évoluer jusqu'au prochain état d'équilibre sans activité donc sans changement de paramètres DANS la boucle temps"
   ]
  },
  {
   "cell_type": "markdown",
   "metadata": {},
   "source": [
    "Choses à faire maintenant :  \n",
    "- Créer l'outil de visualisation\n",
    "- Créer la boucle temporelle"
   ]
  },
  {
   "cell_type": "markdown",
   "metadata": {},
   "source": [
    "Création du maillage"
   ]
  },
  {
   "cell_type": "code",
   "execution_count": 5,
   "metadata": {
    "collapsed": true
   },
   "outputs": [],
   "source": [
    "from cell import cell\n",
    "\n",
    "cell2 = cell(2)\n",
    "\n",
    "E = vertice(5, [5.,0.],0)\n",
    "F = vertice(6, [7.,2.],0)\n",
    "\n",
    "cell2.add_vertice(B)\n",
    "cell2.add_vertice(F)\n",
    "cell2.add_vertice(E)\n",
    "cell2.add_vertice(C)\n",
    "\n"
   ]
  },
  {
   "cell_type": "code",
   "execution_count": 6,
   "metadata": {
    "scrolled": true
   },
   "outputs": [
    {
     "ename": "NameError",
     "evalue": "name 'cells' is not defined",
     "output_type": "error",
     "traceback": [
      "\u001b[0;31m---------------------------------------------------------------------------\u001b[0m",
      "\u001b[0;31mNameError\u001b[0m                                 Traceback (most recent call last)",
      "\u001b[0;32m<ipython-input-6-a752347f9d36>\u001b[0m in \u001b[0;36m<module>\u001b[0;34m()\u001b[0m\n\u001b[1;32m      7\u001b[0m \u001b[0;32mfrom\u001b[0m \u001b[0mcell\u001b[0m \u001b[0;32mimport\u001b[0m \u001b[0mcell\u001b[0m\u001b[0;34m\u001b[0m\u001b[0m\n\u001b[1;32m      8\u001b[0m \u001b[0mcells\u001b[0m \u001b[0;34m=\u001b[0m \u001b[0;34m[\u001b[0m\u001b[0mcell\u001b[0m\u001b[0;34m,\u001b[0m \u001b[0mcell2\u001b[0m\u001b[0;34m]\u001b[0m\u001b[0;34m\u001b[0m\u001b[0m\n\u001b[0;32m----> 9\u001b[0;31m \u001b[0mget_neighbors_links\u001b[0m\u001b[0;34m(\u001b[0m\u001b[0mB\u001b[0m\u001b[0;34m)\u001b[0m\u001b[0;34m\u001b[0m\u001b[0m\n\u001b[0m\u001b[1;32m     10\u001b[0m \u001b[0;34m\u001b[0m\u001b[0m\n",
      "\u001b[0;32m/home/marty/Dropbox/Active solids/Simulation/get_neighbors_links.py\u001b[0m in \u001b[0;36mget_neighbors_links\u001b[0;34m(vertice)\u001b[0m\n\u001b[1;32m     18\u001b[0m         \u001b[0mneighbors\u001b[0m \u001b[0;34m=\u001b[0m \u001b[0;34m[\u001b[0m\u001b[0;34m]\u001b[0m\u001b[0;34m\u001b[0m\u001b[0m\n\u001b[1;32m     19\u001b[0m \u001b[0;34m\u001b[0m\u001b[0m\n\u001b[0;32m---> 20\u001b[0;31m         \u001b[0;32mfor\u001b[0m \u001b[0mi\u001b[0m \u001b[0;32min\u001b[0m \u001b[0mrange\u001b[0m\u001b[0;34m(\u001b[0m\u001b[0mlen\u001b[0m\u001b[0;34m(\u001b[0m\u001b[0mcells\u001b[0m\u001b[0;34m)\u001b[0m\u001b[0;34m)\u001b[0m \u001b[0;34m:\u001b[0m\u001b[0;34m\u001b[0m\u001b[0m\n\u001b[0m\u001b[1;32m     21\u001b[0m                 \u001b[0;32mif\u001b[0m \u001b[0mvertice\u001b[0m \u001b[0;32min\u001b[0m \u001b[0mcells\u001b[0m\u001b[0;34m[\u001b[0m\u001b[0mi\u001b[0m\u001b[0;34m]\u001b[0m\u001b[0;34m.\u001b[0m\u001b[0mvertices\u001b[0m \u001b[0;34m:\u001b[0m\u001b[0;34m\u001b[0m\u001b[0m\n\u001b[1;32m     22\u001b[0m                         \u001b[0;32mfor\u001b[0m \u001b[0mj\u001b[0m \u001b[0;32min\u001b[0m \u001b[0mrange\u001b[0m\u001b[0;34m(\u001b[0m\u001b[0mlen\u001b[0m\u001b[0;34m(\u001b[0m\u001b[0mcells\u001b[0m\u001b[0;34m[\u001b[0m\u001b[0mi\u001b[0m\u001b[0;34m]\u001b[0m\u001b[0;34m.\u001b[0m\u001b[0mlinks\u001b[0m\u001b[0;34m)\u001b[0m\u001b[0;34m)\u001b[0m \u001b[0;34m:\u001b[0m\u001b[0;34m\u001b[0m\u001b[0m\n",
      "\u001b[0;31mNameError\u001b[0m: name 'cells' is not defined"
     ]
    }
   ],
   "source": [
    "cells = [cell, cell2]\n",
    "\n",
    "from get_neighbors_links import get_neighbors_links\n",
    "\n",
    "from link import link\n",
    "from vertice import vertice\n",
    "from cell import cell\n",
    "cells = [cell, cell2]\n",
    "get_neighbors_links(B)\n",
    "\n"
   ]
  },
  {
   "cell_type": "markdown",
   "metadata": {},
   "source": [
    "La simulation fonctionne, on voit les nodes se déplacer. Je commence par essayer sans "
   ]
  }
 ],
 "metadata": {
  "kernelspec": {
   "display_name": "Python 3",
   "language": "python",
   "name": "python3"
  },
  "language_info": {
   "codemirror_mode": {
    "name": "ipython",
    "version": 3
   },
   "file_extension": ".py",
   "mimetype": "text/x-python",
   "name": "python",
   "nbconvert_exporter": "python",
   "pygments_lexer": "ipython3",
   "version": "3.5.2"
  }
 },
 "nbformat": 4,
 "nbformat_minor": 2
}
