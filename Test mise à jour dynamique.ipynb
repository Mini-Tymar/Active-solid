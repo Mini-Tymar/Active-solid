{
 "cells": [
  {
   "cell_type": "raw",
   "metadata": {},
   "source": [
    ">>> from link import link\n",
    ">>> from vertice import vertice\n",
    ">>> A = vertice (1, [0.,0.], 0)\n",
    ">>> B = vertice (5, [5.,5.], 0)\n",
    ">>> AB = link([A,B], \"membrane\")\n",
    ">>> ABIN = link([A,B], \"inside\")\n",
    ">>> AB.k\n",
    "10.0\n",
    ">>> \n",
    ">>> ABIN.k\n",
    "0.0\n",
    ">>> AB.get_force(A)\n",
    "[0.0, 0.0]\n",
    ">>> A.newcoords([-1.,-1.])\n",
    "Traceback (most recent call last):\n",
    "  File \"<stdin>\", line 1, in <module>\n",
    "AttributeError: 'vertice' object has no attribute 'newcoords'\n",
    ">>> newcoords(A,[-1.,-1.])\n",
    "Traceback (most recent call last):\n",
    "  File \"<stdin>\", line 1, in <module>\n",
    "NameError: name 'newcoords' is not defined\n",
    ">>> from newcoords import newcoords\n",
    ">>> newcoords(A,[-1.,-1.])\n",
    ">>> AB.ger_force(A)\n",
    "Traceback (most recent call last):\n",
    "  File \"<stdin>\", line 1, in <module>\n",
    "AttributeError: 'link' object has no attribute 'ger_force'\n",
    ">>> AB.get_force(A)\n",
    "[19.999999999999982, 19.99999999999998]\n",
    ">>> AB.get_force(B)\n",
    "[19.999999999999982, 19.99999999999998]\n",
    ">>> \n",
    ">>> \n",
    ">>> AB.get_force(A)\n",
    "[19.999999999999982, 19.99999999999998]\n",
    ">>> AB.get_force(A)\n",
    "[19.999999999999982, 19.99999999999998]\n",
    ">>> AB.get_force(B)\n",
    "[19.999999999999982, 19.99999999999998]\n",
    ">>> newcoords(A,[0.,0.])\n",
    ">>> AB.get_force(B)\n",
    "[0.0, 0.0]\n",
    ">>> AB.get_force(A)\n",
    "[0.0, 0.0]\n",
    ">>> newcoords(A,[-1.,-1.])\n",
    ">>> AB.get_force(A)\n",
    "[19.999999999999982, 19.99999999999998]\n",
    ">>> AB.get_force(B)\n",
    "[19.999999999999982, 19.99999999999998]\n"
   ]
  },
  {
   "cell_type": "markdown",
   "metadata": {},
   "source": [
    "Est-ce que cela veut dire que je n'ai pas à modifier les cellules et links dyamiquement ? et Simplement en modifiant les vertices cela marche ?"
   ]
  },
  {
   "cell_type": "code",
   "execution_count": 1,
   "metadata": {},
   "outputs": [
    {
     "name": "stdout",
     "output_type": "stream",
     "text": [
      "Warning: elements not read: *ELEMENT, type=T3D2, ELSET=Line1.\n",
      "Warning: elements not read: *ELEMENT, type=T3D2, ELSET=Line2.\n",
      "Warning: elements not read: *ELEMENT, type=T3D2, ELSET=Line3.\n",
      "Warning: elements not read: *ELEMENT, type=T3D2, ELSET=Line4.\n"
     ]
    }
   ],
   "source": [
    "from link import link\n",
    "from vertice import vertice\n",
    "from cell import cell\n",
    "from newcoords import newcoords\n",
    "from createnetwork import createnetwork\n",
    "from INP_Circle_returnverticesandpolygons import INP_Circle_returnverticesandpolygons\n",
    "from get_neighbors_links import get_neighbors_links\n",
    "\n",
    "import networkx as nx\n",
    "from matplotlib import pyplot as plt\n",
    "\n",
    "\n",
    "T = 5.\n",
    "time_steps = 50.\n",
    "dt = T / time_steps\n",
    "gamma = 0.01\n",
    "\n",
    "mesh_basename = \"Circle_quad\"\n",
    "folder_basename = \"lo+1 5s 50steps gamma0.005 without inside links\"\n",
    "\n",
    "[points, polygons] = INP_Circle_returnverticesandpolygons(\n",
    "\tmesh_filename = mesh_basename+\".inp\")\n",
    "\n",
    "[vertices, links, cells] = createnetwork(points, polygons)"
   ]
  },
  {
   "cell_type": "code",
   "execution_count": 2,
   "metadata": {},
   "outputs": [
    {
     "name": "stdout",
     "output_type": "stream",
     "text": [
      "cell: n(39), vertices([vertices : n(339), coords([31.00792185742933, 25.69491180804417]), boundary(False), vertices : n(209), coords([30.24893636695966, 26.16048079483728]), boundary(False), vertices : n(463), coords([29.72615202292337, 25.61033006500074]), boundary(False), vertices : n(74), coords([30.42100557064402, 25.15719686542871]), boundary(False)]), links([link: vertices([vertices : n(339), coords([31.00792185742933, 25.69491180804417]), boundary(False), vertices : n(209), coords([30.24893636695966, 26.16048079483728]), boundary(False)]), place(membrane), activity(0.0), link: vertices([vertices : n(209), coords([30.24893636695966, 26.16048079483728]), boundary(False), vertices : n(463), coords([29.72615202292337, 25.61033006500074]), boundary(False)]), place(membrane), activity(0.0), link: vertices([vertices : n(463), coords([29.72615202292337, 25.61033006500074]), boundary(False), vertices : n(74), coords([30.42100557064402, 25.15719686542871]), boundary(False)]), place(membrane), activity(0.0), link: vertices([vertices : n(74), coords([30.42100557064402, 25.15719686542871]), boundary(False), vertices : n(339), coords([31.00792185742933, 25.69491180804417]), boundary(False)]), place(membrane), activity(0.0), link: vertices([vertices : n(339), coords([31.00792185742933, 25.69491180804417]), boundary(False), vertices : n(463), coords([29.72615202292337, 25.61033006500074]), boundary(False)]), place(inside), activity(0.0), link: vertices([vertices : n(209), coords([30.24893636695966, 26.16048079483728]), boundary(False), vertices : n(74), coords([30.42100557064402, 25.15719686542871]), boundary(False)]), place(inside), activity(0.0)])\n",
      "link: vertices([vertices : n(463), coords([29.72615202292337, 25.61033006500074]), boundary(False), vertices : n(74), coords([30.42100557064402, 25.15719686542871]), boundary(False)]), place(membrane), activity(0.0)\n",
      "link: vertices([vertices : n(463), coords([29.72615202292337, 25.61033006500074]), boundary(False), vertices : n(74), coords([2.0, 2.0]), boundary(False)]), place(membrane), activity(0.0)\n"
     ]
    }
   ],
   "source": [
    "for i in range(len(cells)):\n",
    "    if vertices[74]in cells[i].vertices:\n",
    "        print(cells[i])\n",
    "        break\n",
    "for i in range(len(links)):\n",
    "    if vertices[74] in links[i].vertices:\n",
    "        print(links[i])\n",
    "        newcoords(vertices[74], [2.,2.])\n",
    "        print(links[i])\n",
    "        break"
   ]
  },
  {
   "cell_type": "code",
   "execution_count": 3,
   "metadata": {},
   "outputs": [
    {
     "name": "stdout",
     "output_type": "stream",
     "text": [
      "cell: n(39), vertices([vertices : n(339), coords([31.00792185742933, 25.69491180804417]), boundary(False), vertices : n(209), coords([30.24893636695966, 26.16048079483728]), boundary(False), vertices : n(463), coords([29.72615202292337, 25.61033006500074]), boundary(False), vertices : n(74), coords([2.0, 2.0]), boundary(False)]), links([link: vertices([vertices : n(339), coords([31.00792185742933, 25.69491180804417]), boundary(False), vertices : n(209), coords([30.24893636695966, 26.16048079483728]), boundary(False)]), place(membrane), activity(0.0), link: vertices([vertices : n(209), coords([30.24893636695966, 26.16048079483728]), boundary(False), vertices : n(463), coords([29.72615202292337, 25.61033006500074]), boundary(False)]), place(membrane), activity(0.0), link: vertices([vertices : n(463), coords([29.72615202292337, 25.61033006500074]), boundary(False), vertices : n(74), coords([2.0, 2.0]), boundary(False)]), place(membrane), activity(0.0), link: vertices([vertices : n(74), coords([2.0, 2.0]), boundary(False), vertices : n(339), coords([31.00792185742933, 25.69491180804417]), boundary(False)]), place(membrane), activity(0.0), link: vertices([vertices : n(339), coords([31.00792185742933, 25.69491180804417]), boundary(False), vertices : n(463), coords([29.72615202292337, 25.61033006500074]), boundary(False)]), place(inside), activity(0.0), link: vertices([vertices : n(209), coords([30.24893636695966, 26.16048079483728]), boundary(False), vertices : n(74), coords([2.0, 2.0]), boundary(False)]), place(inside), activity(0.0)])\n"
     ]
    }
   ],
   "source": [
    "for i in range(len(cells)):\n",
    "    if vertices[74]in cells[i].vertices:\n",
    "        print(cells[i])\n",
    "        break"
   ]
  },
  {
   "cell_type": "markdown",
   "metadata": {},
   "source": [
    "Si je modifie un vertice cela modifie tout dans les cellules et les links !!!!!!!!!!!!!!!!"
   ]
  }
 ],
 "metadata": {
  "kernelspec": {
   "display_name": "Python 3",
   "language": "python",
   "name": "python3"
  },
  "language_info": {
   "codemirror_mode": {
    "name": "ipython",
    "version": 3
   },
   "file_extension": ".py",
   "mimetype": "text/x-python",
   "name": "python",
   "nbconvert_exporter": "python",
   "pygments_lexer": "ipython3",
   "version": "3.5.2"
  }
 },
 "nbformat": 4,
 "nbformat_minor": 2
}
